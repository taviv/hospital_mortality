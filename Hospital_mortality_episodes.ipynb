{
 "cells": [
  {
   "cell_type": "markdown",
   "id": "00e31efe",
   "metadata": {},
   "source": [
    "Tzvi Aviv\n",
    "November 9th, 2021\n",
    "Explore the creation of the dataset for hospital mortality prediction from mimic3\n"
   ]
  },
  {
   "cell_type": "code",
   "execution_count": 31,
   "id": "85a6bbe3",
   "metadata": {},
   "outputs": [
    {
     "name": "stdout",
     "output_type": "stream",
     "text": [
      "/ssd003/home/taviv/mimic3-benchmarks\r\n"
     ]
    }
   ],
   "source": [
    "!pwd"
   ]
  },
  {
   "cell_type": "code",
   "execution_count": 18,
   "id": "3b5db4a8",
   "metadata": {},
   "outputs": [],
   "source": [
    "import pandas as pd"
   ]
  },
  {
   "cell_type": "code",
   "execution_count": 1,
   "id": "4be2d6e2",
   "metadata": {},
   "outputs": [],
   "source": [
    "from __future__ import absolute_import\n",
    "from __future__ import print_function\n",
    "\n",
    "import numpy as np\n",
    "import argparse\n",
    "import os\n",
    "import imp\n",
    "import re\n",
    "\n",
    "from sklearn.preprocessing import StandardScaler\n",
    "from sklearn.impute import SimpleImputer"
   ]
  },
  {
   "cell_type": "code",
   "execution_count": 3,
   "id": "516778a0",
   "metadata": {},
   "outputs": [],
   "source": [
    "from mimic3models import common_utils\n",
    "from mimic3models.in_hospital_mortality import utils\n",
    "from mimic3benchmark.readers import InHospitalMortalityReader\n",
    "\n",
    "from mimic3models.preprocessing import Discretizer, Normalizer\n",
    "\n",
    "def read_and_extract_features(reader, period, features):\n",
    "    ret = common_utils.read_chunk(reader, reader.get_number_of_examples())\n",
    "    # ret = common_utils.read_chunk(reader, 100)\n",
    "    X = common_utils.extract_features_from_rawdata(ret['X'], ret['header'], period, features)\n",
    "    return (X, ret['y'], ret['name'])\n",
    "\n",
    "\n",
    "\n"
   ]
  },
  {
   "cell_type": "markdown",
   "id": "c11644bb",
   "metadata": {},
   "source": [
    "parser = argparse.ArgumentParser()\n",
    "\n",
    "parser.add_argument('--data', type=str, help='Path to the data of in-hospital mortality task',\n",
    "                    default='/ssd003/home/taviv/mimic3-benchmarks/data/in-hospital-mortality/')\n",
    "parser.add_argument('--output_dir', type=str, help='Directory relative which all output files are stored',\n",
    "                    default='/ssd003/home/taviv/mimic3-benchmarks/data_ta')\n",
    "args = parser.parse_args()"
   ]
  },
  {
   "cell_type": "code",
   "execution_count": 8,
   "id": "ef2c4aa0",
   "metadata": {},
   "outputs": [
    {
     "name": "stdout",
     "output_type": "stream",
     "text": [
      "test  test_listfile.csv  train\ttrain_listfile.csv  val_listfile.csv\r\n"
     ]
    }
   ],
   "source": [
    "! ls /ssd003/home/taviv/mimic3-benchmarks/data/in-hospital-mortality/"
   ]
  },
  {
   "cell_type": "code",
   "execution_count": 9,
   "id": "87e65edd",
   "metadata": {},
   "outputs": [],
   "source": [
    "# Build readers, discretizers, normalizers\n",
    "train_reader = InHospitalMortalityReader(dataset_dir='/ssd003/home/taviv/mimic3-benchmarks/data/in-hospital-mortality/train',\n",
    "                                         listfile='/ssd003/home/taviv/mimic3-benchmarks/data/in-hospital-mortality/train_listfile.csv',\n",
    "                                         period_length=48.0)\n"
   ]
  },
  {
   "cell_type": "code",
   "execution_count": 27,
   "id": "8588c08c",
   "metadata": {},
   "outputs": [],
   "source": [
    "# Build readers, discretizers, normalizers\n",
    "test_reader = InHospitalMortalityReader(dataset_dir='/ssd003/home/taviv/mimic3-benchmarks/data/in-hospital-mortality/test',\n",
    "                                         listfile='/ssd003/home/taviv/mimic3-benchmarks/data/in-hospital-mortality/test_listfile.csv',\n",
    "                                         period_length=48.0)"
   ]
  },
  {
   "cell_type": "code",
   "execution_count": 10,
   "id": "56285c26",
   "metadata": {},
   "outputs": [
    {
     "name": "stdout",
     "output_type": "stream",
     "text": [
      "Reading data and extracting features ...\n"
     ]
    }
   ],
   "source": [
    "print('Reading data and extracting features ...')\n",
    "(train_X, train_y, train_names) = read_and_extract_features(train_reader, \"all\", \"all\")"
   ]
  },
  {
   "cell_type": "code",
   "execution_count": 28,
   "id": "18820a88",
   "metadata": {},
   "outputs": [
    {
     "name": "stdout",
     "output_type": "stream",
     "text": [
      "Reading data and extracting features ...\n"
     ]
    }
   ],
   "source": [
    "print('Reading data and extracting features ...')\n",
    "(test_X, test_y, test_names) = read_and_extract_features(test_reader, \"all\", \"all\")"
   ]
  },
  {
   "cell_type": "code",
   "execution_count": 30,
   "id": "41a43b3b",
   "metadata": {},
   "outputs": [
    {
     "data": {
      "text/plain": [
       "(3236, 714)"
      ]
     },
     "execution_count": 30,
     "metadata": {},
     "output_type": "execute_result"
    }
   ],
   "source": [
    "test_X.shape"
   ]
  },
  {
   "cell_type": "code",
   "execution_count": 12,
   "id": "a3052fb8",
   "metadata": {},
   "outputs": [
    {
     "data": {
      "text/plain": [
       "(14681, 714)"
      ]
     },
     "execution_count": 12,
     "metadata": {},
     "output_type": "execute_result"
    }
   ],
   "source": [
    "train_X.shape"
   ]
  },
  {
   "cell_type": "code",
   "execution_count": 29,
   "id": "a8b23a3d",
   "metadata": {},
   "outputs": [
    {
     "data": {
      "text/plain": [
       "'3977_episode4_timeseries.csv'"
      ]
     },
     "execution_count": 29,
     "metadata": {},
     "output_type": "execute_result"
    }
   ],
   "source": [
    "train_names[0]"
   ]
  },
  {
   "cell_type": "code",
   "execution_count": null,
   "id": "9b491f03",
   "metadata": {},
   "outputs": [],
   "source": [
    "#we want to get the subject id from train_names and add to the arrays or pd dfs"
   ]
  },
  {
   "cell_type": "code",
   "execution_count": 34,
   "id": "54ce05ae",
   "metadata": {},
   "outputs": [],
   "source": [
    "train_df = pd.DataFrame(train_X)\n",
    "train_df[\"label\"]=train_y"
   ]
  },
  {
   "cell_type": "code",
   "execution_count": 35,
   "id": "5b308dfe",
   "metadata": {},
   "outputs": [],
   "source": [
    "train_df[\"file\"]=train_names"
   ]
  },
  {
   "cell_type": "code",
   "execution_count": 37,
   "id": "069826cc",
   "metadata": {},
   "outputs": [],
   "source": [
    "train_df[['SUBJ_ID','episode', 'ts']] = train_df['file'].str.split('_',expand=True)"
   ]
  },
  {
   "cell_type": "code",
   "execution_count": 38,
   "id": "ef3df49c",
   "metadata": {},
   "outputs": [
    {
     "data": {
      "text/html": [
       "<div>\n",
       "<style scoped>\n",
       "    .dataframe tbody tr th:only-of-type {\n",
       "        vertical-align: middle;\n",
       "    }\n",
       "\n",
       "    .dataframe tbody tr th {\n",
       "        vertical-align: top;\n",
       "    }\n",
       "\n",
       "    .dataframe thead th {\n",
       "        text-align: right;\n",
       "    }\n",
       "</style>\n",
       "<table border=\"1\" class=\"dataframe\">\n",
       "  <thead>\n",
       "    <tr style=\"text-align: right;\">\n",
       "      <th></th>\n",
       "      <th>0</th>\n",
       "      <th>1</th>\n",
       "      <th>2</th>\n",
       "      <th>3</th>\n",
       "      <th>4</th>\n",
       "      <th>5</th>\n",
       "      <th>6</th>\n",
       "      <th>7</th>\n",
       "      <th>8</th>\n",
       "      <th>9</th>\n",
       "      <th>...</th>\n",
       "      <th>709</th>\n",
       "      <th>710</th>\n",
       "      <th>711</th>\n",
       "      <th>712</th>\n",
       "      <th>713</th>\n",
       "      <th>label</th>\n",
       "      <th>file</th>\n",
       "      <th>SUBJ_ID</th>\n",
       "      <th>episode</th>\n",
       "      <th>ts</th>\n",
       "    </tr>\n",
       "  </thead>\n",
       "  <tbody>\n",
       "    <tr>\n",
       "      <th>0</th>\n",
       "      <td>NaN</td>\n",
       "      <td>NaN</td>\n",
       "      <td>NaN</td>\n",
       "      <td>NaN</td>\n",
       "      <td>NaN</td>\n",
       "      <td>NaN</td>\n",
       "      <td>NaN</td>\n",
       "      <td>NaN</td>\n",
       "      <td>NaN</td>\n",
       "      <td>NaN</td>\n",
       "      <td>...</td>\n",
       "      <td>NaN</td>\n",
       "      <td>NaN</td>\n",
       "      <td>NaN</td>\n",
       "      <td>NaN</td>\n",
       "      <td>NaN</td>\n",
       "      <td>0</td>\n",
       "      <td>3977_episode4_timeseries.csv</td>\n",
       "      <td>3977</td>\n",
       "      <td>episode4</td>\n",
       "      <td>timeseries.csv</td>\n",
       "    </tr>\n",
       "    <tr>\n",
       "      <th>1</th>\n",
       "      <td>NaN</td>\n",
       "      <td>NaN</td>\n",
       "      <td>NaN</td>\n",
       "      <td>NaN</td>\n",
       "      <td>NaN</td>\n",
       "      <td>NaN</td>\n",
       "      <td>NaN</td>\n",
       "      <td>NaN</td>\n",
       "      <td>NaN</td>\n",
       "      <td>NaN</td>\n",
       "      <td>...</td>\n",
       "      <td>7.32</td>\n",
       "      <td>7.280000</td>\n",
       "      <td>0.032404</td>\n",
       "      <td>-0.440867</td>\n",
       "      <td>8.0</td>\n",
       "      <td>0</td>\n",
       "      <td>97271_episode1_timeseries.csv</td>\n",
       "      <td>97271</td>\n",
       "      <td>episode1</td>\n",
       "      <td>timeseries.csv</td>\n",
       "    </tr>\n",
       "    <tr>\n",
       "      <th>2</th>\n",
       "      <td>NaN</td>\n",
       "      <td>NaN</td>\n",
       "      <td>NaN</td>\n",
       "      <td>NaN</td>\n",
       "      <td>NaN</td>\n",
       "      <td>NaN</td>\n",
       "      <td>NaN</td>\n",
       "      <td>NaN</td>\n",
       "      <td>NaN</td>\n",
       "      <td>NaN</td>\n",
       "      <td>...</td>\n",
       "      <td>7.40</td>\n",
       "      <td>7.320000</td>\n",
       "      <td>0.043205</td>\n",
       "      <td>0.595170</td>\n",
       "      <td>12.0</td>\n",
       "      <td>0</td>\n",
       "      <td>29742_episode1_timeseries.csv</td>\n",
       "      <td>29742</td>\n",
       "      <td>episode1</td>\n",
       "      <td>timeseries.csv</td>\n",
       "    </tr>\n",
       "    <tr>\n",
       "      <th>3</th>\n",
       "      <td>NaN</td>\n",
       "      <td>NaN</td>\n",
       "      <td>NaN</td>\n",
       "      <td>NaN</td>\n",
       "      <td>NaN</td>\n",
       "      <td>NaN</td>\n",
       "      <td>NaN</td>\n",
       "      <td>NaN</td>\n",
       "      <td>NaN</td>\n",
       "      <td>NaN</td>\n",
       "      <td>...</td>\n",
       "      <td>5.00</td>\n",
       "      <td>5.000000</td>\n",
       "      <td>0.000000</td>\n",
       "      <td>0.000000</td>\n",
       "      <td>1.0</td>\n",
       "      <td>0</td>\n",
       "      <td>3362_episode1_timeseries.csv</td>\n",
       "      <td>3362</td>\n",
       "      <td>episode1</td>\n",
       "      <td>timeseries.csv</td>\n",
       "    </tr>\n",
       "    <tr>\n",
       "      <th>4</th>\n",
       "      <td>NaN</td>\n",
       "      <td>NaN</td>\n",
       "      <td>NaN</td>\n",
       "      <td>NaN</td>\n",
       "      <td>NaN</td>\n",
       "      <td>NaN</td>\n",
       "      <td>NaN</td>\n",
       "      <td>NaN</td>\n",
       "      <td>NaN</td>\n",
       "      <td>NaN</td>\n",
       "      <td>...</td>\n",
       "      <td>7.38</td>\n",
       "      <td>7.376667</td>\n",
       "      <td>0.004714</td>\n",
       "      <td>-0.707107</td>\n",
       "      <td>6.0</td>\n",
       "      <td>0</td>\n",
       "      <td>2187_episode2_timeseries.csv</td>\n",
       "      <td>2187</td>\n",
       "      <td>episode2</td>\n",
       "      <td>timeseries.csv</td>\n",
       "    </tr>\n",
       "  </tbody>\n",
       "</table>\n",
       "<p>5 rows × 719 columns</p>\n",
       "</div>"
      ],
      "text/plain": [
       "    0   1   2   3   4   5   6   7   8   9  ...   709       710       711  \\\n",
       "0 NaN NaN NaN NaN NaN NaN NaN NaN NaN NaN  ...   NaN       NaN       NaN   \n",
       "1 NaN NaN NaN NaN NaN NaN NaN NaN NaN NaN  ...  7.32  7.280000  0.032404   \n",
       "2 NaN NaN NaN NaN NaN NaN NaN NaN NaN NaN  ...  7.40  7.320000  0.043205   \n",
       "3 NaN NaN NaN NaN NaN NaN NaN NaN NaN NaN  ...  5.00  5.000000  0.000000   \n",
       "4 NaN NaN NaN NaN NaN NaN NaN NaN NaN NaN  ...  7.38  7.376667  0.004714   \n",
       "\n",
       "        712   713  label                           file  SUBJ_ID   episode  \\\n",
       "0       NaN   NaN      0   3977_episode4_timeseries.csv     3977  episode4   \n",
       "1 -0.440867   8.0      0  97271_episode1_timeseries.csv    97271  episode1   \n",
       "2  0.595170  12.0      0  29742_episode1_timeseries.csv    29742  episode1   \n",
       "3  0.000000   1.0      0   3362_episode1_timeseries.csv     3362  episode1   \n",
       "4 -0.707107   6.0      0   2187_episode2_timeseries.csv     2187  episode2   \n",
       "\n",
       "               ts  \n",
       "0  timeseries.csv  \n",
       "1  timeseries.csv  \n",
       "2  timeseries.csv  \n",
       "3  timeseries.csv  \n",
       "4  timeseries.csv  \n",
       "\n",
       "[5 rows x 719 columns]"
      ]
     },
     "execution_count": 38,
     "metadata": {},
     "output_type": "execute_result"
    }
   ],
   "source": [
    "train_df.head()"
   ]
  },
  {
   "cell_type": "markdown",
   "id": "b4cb8b32",
   "metadata": {},
   "source": [
    "\"file\", and \"ts\" columns can be removed"
   ]
  },
  {
   "cell_type": "code",
   "execution_count": 40,
   "id": "bf554629",
   "metadata": {},
   "outputs": [
    {
     "data": {
      "text/plain": [
       "12565"
      ]
     },
     "execution_count": 40,
     "metadata": {},
     "output_type": "execute_result"
    }
   ],
   "source": [
    "train_df.SUBJ_ID.nunique()"
   ]
  },
  {
   "cell_type": "code",
   "execution_count": 42,
   "id": "6c3eccce",
   "metadata": {},
   "outputs": [
    {
     "data": {
      "text/plain": [
       "<AxesSubplot:>"
      ]
     },
     "execution_count": 42,
     "metadata": {},
     "output_type": "execute_result"
    },
    {
     "data": {
      "image/png": "[encoded data removed]",
      "text/plain": [
       "<Figure size 432x288 with 1 Axes>"
      ]
     },
     "metadata": {
      "needs_background": "light"
     },
     "output_type": "display_data"
    }
   ],
   "source": [
    "train_df.episode.value_counts().plot(kind='bar')"
   ]
  },
  {
   "cell_type": "code",
   "execution_count": null,
   "id": "e7bea98b",
   "metadata": {},
   "outputs": [],
   "source": [
    "#is mortality related to the episode number?"
   ]
  },
  {
   "cell_type": "code",
   "execution_count": 44,
   "id": "41558d4d",
   "metadata": {},
   "outputs": [],
   "source": [
    "train_grp = train_df[['label','episode']].groupby('episode')"
   ]
  },
  {
   "cell_type": "code",
   "execution_count": 52,
   "id": "f16a5710",
   "metadata": {},
   "outputs": [],
   "source": [
    "mr = pd.merge(train_grp.count(),train_grp.sum(), how = 'left', right_index=True, left_index=True)"
   ]
  },
  {
   "cell_type": "code",
   "execution_count": 54,
   "id": "bc8ee555",
   "metadata": {},
   "outputs": [],
   "source": [
    "mr.columns=['n', 'died']"
   ]
  },
  {
   "cell_type": "code",
   "execution_count": 55,
   "id": "c762a84f",
   "metadata": {},
   "outputs": [],
   "source": [
    "mr['m_rate'] = mr.died/mr.n"
   ]
  },
  {
   "cell_type": "code",
   "execution_count": 59,
   "id": "b1136e1f",
   "metadata": {},
   "outputs": [],
   "source": [
    "mr.sort_values('m_rate', ascending=False, inplace=True)"
   ]
  },
  {
   "cell_type": "code",
   "execution_count": 60,
   "id": "255f07d9",
   "metadata": {},
   "outputs": [
    {
     "data": {
      "text/plain": [
       "<AxesSubplot:xlabel='episode'>"
      ]
     },
     "execution_count": 60,
     "metadata": {},
     "output_type": "execute_result"
    },
    {
     "data": {
      "image/png": "[encoded data removed]",
      "text/plain": [
       "<Figure size 432x288 with 1 Axes>"
      ]
     },
     "metadata": {
      "needs_background": "light"
     },
     "output_type": "display_data"
    }
   ],
   "source": [
    "mr.m_rate.plot(kind='bar')"
   ]
  },
  {
   "cell_type": "code",
   "execution_count": null,
   "id": "a5332d2e",
   "metadata": {},
   "outputs": [],
   "source": [
    "#high mortality rate in episode 7 (?)"
   ]
  },
  {
   "cell_type": "markdown",
   "id": "12460c90",
   "metadata": {},
   "source": [
    "## now lets see mortality rates in the test data"
   ]
  },
  {
   "cell_type": "code",
   "execution_count": 61,
   "id": "da203a01",
   "metadata": {},
   "outputs": [],
   "source": [
    "test_df = pd.DataFrame(test_X)\n",
    "test_df[\"label\"]=test_y\n",
    "test_df[\"file\"]=test_names\n",
    "test_df[['SUBJ_ID','episode', 'ts']] = test_df['file'].str.split('_',expand=True)"
   ]
  },
  {
   "cell_type": "code",
   "execution_count": 65,
   "id": "f5268d69",
   "metadata": {},
   "outputs": [],
   "source": [
    "test_grp = test_df[['label','episode']].groupby('episode')\n",
    "mr_test = pd.merge(test_grp.count(),test_grp.sum(), how = 'left', right_index=True, left_index=True)"
   ]
  },
  {
   "cell_type": "code",
   "execution_count": 66,
   "id": "d3cf44cd",
   "metadata": {},
   "outputs": [],
   "source": [
    "mr_test.columns=['n', 'died']\n",
    "mr_test['m_rate'] = mr_test.died/mr_test.n\n",
    "mr_test.sort_values('m_rate', ascending=False, inplace=True)"
   ]
  },
  {
   "cell_type": "code",
   "execution_count": 67,
   "id": "5b0f4c74",
   "metadata": {},
   "outputs": [
    {
     "data": {
      "text/plain": [
       "<AxesSubplot:xlabel='episode'>"
      ]
     },
     "execution_count": 67,
     "metadata": {},
     "output_type": "execute_result"
    },
    {
     "data": {
      "image/png": "[encoded data removed]",
      "text/plain": [
       "<Figure size 432x288 with 1 Axes>"
      ]
     },
     "metadata": {
      "needs_background": "light"
     },
     "output_type": "display_data"
    }
   ],
   "source": [
    "mr_test.m_rate.plot(kind='bar')"
   ]
  },
  {
   "cell_type": "code",
   "execution_count": null,
   "id": "ee360703",
   "metadata": {},
   "outputs": [],
   "source": [
    "#in the test set we get very high mortality rates in the 10th episode "
   ]
  },
  {
   "cell_type": "code",
   "execution_count": 68,
   "id": "c234e25d",
   "metadata": {},
   "outputs": [
    {
     "data": {
      "text/plain": [
       "2763"
      ]
     },
     "execution_count": 68,
     "metadata": {},
     "output_type": "execute_result"
    }
   ],
   "source": [
    "test_df.SUBJ_ID.nunique()"
   ]
  },
  {
   "cell_type": "code",
   "execution_count": null,
   "id": "5d2c3e25",
   "metadata": {},
   "outputs": [],
   "source": [
    "#another way to do it is from the listfile.csv"
   ]
  },
  {
   "cell_type": "code",
   "execution_count": 20,
   "id": "602cc76a",
   "metadata": {},
   "outputs": [],
   "source": [
    "files = pd.read_csv(\"data/in-hospital-mortality/train_listfile.csv\")"
   ]
  },
  {
   "cell_type": "code",
   "execution_count": 21,
   "id": "84a31154",
   "metadata": {},
   "outputs": [
    {
     "data": {
      "text/html": [
       "<div>\n",
       "<style scoped>\n",
       "    .dataframe tbody tr th:only-of-type {\n",
       "        vertical-align: middle;\n",
       "    }\n",
       "\n",
       "    .dataframe tbody tr th {\n",
       "        vertical-align: top;\n",
       "    }\n",
       "\n",
       "    .dataframe thead th {\n",
       "        text-align: right;\n",
       "    }\n",
       "</style>\n",
       "<table border=\"1\" class=\"dataframe\">\n",
       "  <thead>\n",
       "    <tr style=\"text-align: right;\">\n",
       "      <th></th>\n",
       "      <th>stay</th>\n",
       "      <th>y_true</th>\n",
       "    </tr>\n",
       "  </thead>\n",
       "  <tbody>\n",
       "    <tr>\n",
       "      <th>0</th>\n",
       "      <td>3977_episode4_timeseries.csv</td>\n",
       "      <td>0</td>\n",
       "    </tr>\n",
       "    <tr>\n",
       "      <th>1</th>\n",
       "      <td>97271_episode1_timeseries.csv</td>\n",
       "      <td>0</td>\n",
       "    </tr>\n",
       "    <tr>\n",
       "      <th>2</th>\n",
       "      <td>29742_episode1_timeseries.csv</td>\n",
       "      <td>0</td>\n",
       "    </tr>\n",
       "    <tr>\n",
       "      <th>3</th>\n",
       "      <td>3362_episode1_timeseries.csv</td>\n",
       "      <td>0</td>\n",
       "    </tr>\n",
       "    <tr>\n",
       "      <th>4</th>\n",
       "      <td>2187_episode2_timeseries.csv</td>\n",
       "      <td>0</td>\n",
       "    </tr>\n",
       "  </tbody>\n",
       "</table>\n",
       "</div>"
      ],
      "text/plain": [
       "                            stay  y_true\n",
       "0   3977_episode4_timeseries.csv       0\n",
       "1  97271_episode1_timeseries.csv       0\n",
       "2  29742_episode1_timeseries.csv       0\n",
       "3   3362_episode1_timeseries.csv       0\n",
       "4   2187_episode2_timeseries.csv       0"
      ]
     },
     "execution_count": 21,
     "metadata": {},
     "output_type": "execute_result"
    }
   ],
   "source": [
    "files.head()"
   ]
  },
  {
   "cell_type": "code",
   "execution_count": 23,
   "id": "8f2b172c",
   "metadata": {},
   "outputs": [],
   "source": [
    "files[['SUBJ_ID','episode', 'ts']] = files['stay'].str.split('_',expand=True)"
   ]
  },
  {
   "cell_type": "code",
   "execution_count": 24,
   "id": "8323ceec",
   "metadata": {},
   "outputs": [
    {
     "data": {
      "text/html": [
       "<div>\n",
       "<style scoped>\n",
       "    .dataframe tbody tr th:only-of-type {\n",
       "        vertical-align: middle;\n",
       "    }\n",
       "\n",
       "    .dataframe tbody tr th {\n",
       "        vertical-align: top;\n",
       "    }\n",
       "\n",
       "    .dataframe thead th {\n",
       "        text-align: right;\n",
       "    }\n",
       "</style>\n",
       "<table border=\"1\" class=\"dataframe\">\n",
       "  <thead>\n",
       "    <tr style=\"text-align: right;\">\n",
       "      <th></th>\n",
       "      <th>stay</th>\n",
       "      <th>y_true</th>\n",
       "      <th>SUBJ_ID</th>\n",
       "      <th>episode</th>\n",
       "      <th>ts</th>\n",
       "    </tr>\n",
       "  </thead>\n",
       "  <tbody>\n",
       "    <tr>\n",
       "      <th>0</th>\n",
       "      <td>3977_episode4_timeseries.csv</td>\n",
       "      <td>0</td>\n",
       "      <td>3977</td>\n",
       "      <td>episode4</td>\n",
       "      <td>timeseries.csv</td>\n",
       "    </tr>\n",
       "    <tr>\n",
       "      <th>1</th>\n",
       "      <td>97271_episode1_timeseries.csv</td>\n",
       "      <td>0</td>\n",
       "      <td>97271</td>\n",
       "      <td>episode1</td>\n",
       "      <td>timeseries.csv</td>\n",
       "    </tr>\n",
       "    <tr>\n",
       "      <th>2</th>\n",
       "      <td>29742_episode1_timeseries.csv</td>\n",
       "      <td>0</td>\n",
       "      <td>29742</td>\n",
       "      <td>episode1</td>\n",
       "      <td>timeseries.csv</td>\n",
       "    </tr>\n",
       "    <tr>\n",
       "      <th>3</th>\n",
       "      <td>3362_episode1_timeseries.csv</td>\n",
       "      <td>0</td>\n",
       "      <td>3362</td>\n",
       "      <td>episode1</td>\n",
       "      <td>timeseries.csv</td>\n",
       "    </tr>\n",
       "    <tr>\n",
       "      <th>4</th>\n",
       "      <td>2187_episode2_timeseries.csv</td>\n",
       "      <td>0</td>\n",
       "      <td>2187</td>\n",
       "      <td>episode2</td>\n",
       "      <td>timeseries.csv</td>\n",
       "    </tr>\n",
       "  </tbody>\n",
       "</table>\n",
       "</div>"
      ],
      "text/plain": [
       "                            stay  y_true SUBJ_ID   episode              ts\n",
       "0   3977_episode4_timeseries.csv       0    3977  episode4  timeseries.csv\n",
       "1  97271_episode1_timeseries.csv       0   97271  episode1  timeseries.csv\n",
       "2  29742_episode1_timeseries.csv       0   29742  episode1  timeseries.csv\n",
       "3   3362_episode1_timeseries.csv       0    3362  episode1  timeseries.csv\n",
       "4   2187_episode2_timeseries.csv       0    2187  episode2  timeseries.csv"
      ]
     },
     "execution_count": 24,
     "metadata": {},
     "output_type": "execute_result"
    }
   ],
   "source": [
    "files.head()"
   ]
  },
  {
   "cell_type": "code",
   "execution_count": 25,
   "id": "5f585e27",
   "metadata": {},
   "outputs": [
    {
     "data": {
      "text/plain": [
       "12565"
      ]
     },
     "execution_count": 25,
     "metadata": {},
     "output_type": "execute_result"
    }
   ],
   "source": [
    "files.SUBJ_ID.nunique()"
   ]
  },
  {
   "cell_type": "code",
   "execution_count": 26,
   "id": "c3cc5f12",
   "metadata": {},
   "outputs": [
    {
     "data": {
      "text/plain": [
       "(14681, 5)"
      ]
     },
     "execution_count": 26,
     "metadata": {},
     "output_type": "execute_result"
    }
   ],
   "source": [
    "files.shape"
   ]
  },
  {
   "cell_type": "code",
   "execution_count": null,
   "id": "d0b731ee",
   "metadata": {},
   "outputs": [],
   "source": []
  }
 ],
 "metadata": {
  "kernelspec": {
   "display_name": "LOBLAWS_PETS",
   "language": "python",
   "name": "loblaws_pets"
  },
  "language_info": {
   "codemirror_mode": {
    "name": "ipython",
    "version": 3
   },
   "file_extension": ".py",
   "mimetype": "text/x-python",
   "name": "python",
   "nbconvert_exporter": "python",
   "pygments_lexer": "ipython3",
   "version": "3.8.0"
  }
 },
 "nbformat": 4,
 "nbformat_minor": 5
}
